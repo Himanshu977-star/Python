{
  "nbformat": 4,
  "nbformat_minor": 0,
  "metadata": {
    "colab": {
      "provenance": []
    },
    "kernelspec": {
      "name": "python3",
      "display_name": "Python 3"
    },
    "language_info": {
      "name": "python"
    }
  },
  "cells": [
    {
      "cell_type": "code",
      "source": [
        "#Practice"
      ],
      "metadata": {
        "id": "iIVWbI-2OqOY"
      },
      "execution_count": 1,
      "outputs": []
    },
    {
      "cell_type": "code",
      "source": [
        "print(\"--------------Create LOGIN----------------\")\n",
        "email=input(\"Enter your email:\")\n",
        "password=input(\"Enter password:\")\n",
        "def success():\n",
        "   print(\"\\033[31mSwagat karenge hum aapka\\033[0m\")\n",
        "def failure():\n",
        "  print(\"Tum galat ho pata nahi per nikal jao\")\n",
        "  print(\"--------------Recreate LOGIN----------------\")\n",
        "  email=input(\"Enter your email:\")\n",
        "  password=input(\"Enter password:\")\n",
        "print(\"--------------LOGIN------------------\")\n",
        "e=input(\"Enter your email:\")\n",
        "p=input(\"Enter password:\")\n",
        "if e==email and p==password:\n",
        "  success()\n",
        "else:\n",
        "  failure()\n"
      ],
      "metadata": {
        "colab": {
          "base_uri": "https://localhost:8080/"
        },
        "id": "zGtjx7LHRW9I",
        "outputId": "25c65067-a61f-4853-c96e-904911d48379"
      },
      "execution_count": 2,
      "outputs": [
        {
          "output_type": "stream",
          "name": "stdout",
          "text": [
            "--------------Create LOGIN----------------\n",
            "Enter your email:hd15192006@gmail.com\n",
            "Enter password:123456\n",
            "--------------LOGIN------------------\n",
            "Enter your email:hd15192006@gmail.com\n",
            "Enter password:123456\n",
            "\u001b[31mSwagat karenge hum aapka\u001b[0m\n"
          ]
        }
      ]
    },
    {
      "cell_type": "code",
      "source": [
        "#Data types in python"
      ],
      "metadata": {
        "id": "aE7uAK1HSrm4"
      },
      "execution_count": 3,
      "outputs": []
    },
    {
      "cell_type": "code",
      "source": [
        "#List\n",
        "list1=[1,2,3,4,5]\n",
        "print(list1)"
      ],
      "metadata": {
        "colab": {
          "base_uri": "https://localhost:8080/"
        },
        "id": "XQykmLRGWSY4",
        "outputId": "a618761e-642e-4101-9803-a4db669aaf54"
      },
      "execution_count": 4,
      "outputs": [
        {
          "output_type": "stream",
          "name": "stdout",
          "text": [
            "[1, 2, 3, 4, 5]\n"
          ]
        }
      ]
    },
    {
      "cell_type": "code",
      "source": [
        "#List Function:append,insert,pop(by index value),remove by name\n",
        "#loop for list\n",
        "#mutable"
      ],
      "metadata": {
        "id": "crZGoa3EWsnH"
      },
      "execution_count": 5,
      "outputs": []
    },
    {
      "cell_type": "code",
      "source": [
        "list=['apple','banana','cherry']\n",
        "list.append('orange')\n",
        "list"
      ],
      "metadata": {
        "colab": {
          "base_uri": "https://localhost:8080/"
        },
        "id": "T0stpxSYXVcI",
        "outputId": "7ebeefc5-b70c-49c9-e1e7-d98f404d5e7b"
      },
      "execution_count": 6,
      "outputs": [
        {
          "output_type": "execute_result",
          "data": {
            "text/plain": [
              "['apple', 'banana', 'cherry', 'orange']"
            ]
          },
          "metadata": {},
          "execution_count": 6
        }
      ]
    },
    {
      "cell_type": "code",
      "source": [
        "list.insert(2,'kiwi')\n",
        "list"
      ],
      "metadata": {
        "colab": {
          "base_uri": "https://localhost:8080/"
        },
        "id": "9C3qJfd4Xtdo",
        "outputId": "b2917bee-ab3b-42d3-f5da-182a7c7a6a3c"
      },
      "execution_count": 7,
      "outputs": [
        {
          "output_type": "execute_result",
          "data": {
            "text/plain": [
              "['apple', 'banana', 'kiwi', 'cherry', 'orange']"
            ]
          },
          "metadata": {},
          "execution_count": 7
        }
      ]
    },
    {
      "cell_type": "code",
      "source": [
        "list.pop()"
      ],
      "metadata": {
        "colab": {
          "base_uri": "https://localhost:8080/",
          "height": 36
        },
        "id": "evxZ1zuQX0yY",
        "outputId": "6477eba1-512a-481a-8892-2b91b0502137"
      },
      "execution_count": 8,
      "outputs": [
        {
          "output_type": "execute_result",
          "data": {
            "text/plain": [
              "'orange'"
            ],
            "application/vnd.google.colaboratory.intrinsic+json": {
              "type": "string"
            }
          },
          "metadata": {},
          "execution_count": 8
        }
      ]
    },
    {
      "cell_type": "code",
      "source": [
        "list"
      ],
      "metadata": {
        "colab": {
          "base_uri": "https://localhost:8080/"
        },
        "id": "zb4XKCb5X9zI",
        "outputId": "cbfbc05c-f18b-4e58-e2d3-23bbc0cd5176"
      },
      "execution_count": 9,
      "outputs": [
        {
          "output_type": "execute_result",
          "data": {
            "text/plain": [
              "['apple', 'banana', 'kiwi', 'cherry']"
            ]
          },
          "metadata": {},
          "execution_count": 9
        }
      ]
    },
    {
      "cell_type": "code",
      "source": [
        "name=['ayush','deepak','shubhankar','avnish','pratham','naman','chhotachetan']"
      ],
      "metadata": {
        "id": "oa5EsbkRYevo"
      },
      "execution_count": 10,
      "outputs": []
    },
    {
      "cell_type": "code",
      "source": [
        "find='chhotachetan'\n",
        "count=0\n",
        "for i in name:\n",
        "\n",
        "  if i==find:\n",
        "    print(count)\n",
        "    break\n",
        "\n",
        "  count=count+1\n"
      ],
      "metadata": {
        "colab": {
          "base_uri": "https://localhost:8080/"
        },
        "id": "4VktfwMiY6oo",
        "outputId": "b732ba97-8b3b-4bb4-9bdd-a45c231ed8cc"
      },
      "execution_count": 11,
      "outputs": [
        {
          "output_type": "stream",
          "name": "stdout",
          "text": [
            "6\n"
          ]
        }
      ]
    },
    {
      "cell_type": "code",
      "source": [
        "#split function\n",
        "text=input(\"Enter the word:\")"
      ],
      "metadata": {
        "colab": {
          "base_uri": "https://localhost:8080/"
        },
        "id": "Bul9YobScIVY",
        "outputId": "324b866d-d6f8-49e3-b542-b491a3ce9f03"
      },
      "execution_count": 15,
      "outputs": [
        {
          "name": "stdout",
          "output_type": "stream",
          "text": [
            "Enter the word:namasate sabko\n"
          ]
        }
      ]
    },
    {
      "cell_type": "code",
      "source": [
        "text1=text.split()\n",
        "text1"
      ],
      "metadata": {
        "colab": {
          "base_uri": "https://localhost:8080/"
        },
        "id": "zVN2TBSMczzp",
        "outputId": "b2b70228-e128-4f07-fb50-4f6b3784d457"
      },
      "execution_count": 16,
      "outputs": [
        {
          "output_type": "execute_result",
          "data": {
            "text/plain": [
              "['namasate', 'sabko']"
            ]
          },
          "metadata": {},
          "execution_count": 16
        }
      ]
    },
    {
      "cell_type": "code",
      "source": [
        "#dictionary function:update,pop\n",
        "dict={\n",
        "    'person1':{'Card':'Gold','Car':'Yes'},\n",
        "    'person2':{'Card':'Silver','Car':'No'}\n",
        "}\n",
        "dict"
      ],
      "metadata": {
        "colab": {
          "base_uri": "https://localhost:8080/"
        },
        "id": "1GBZA5tsdi1p",
        "outputId": "94ebad47-c4a7-4bcc-90bf-7895243d6af5"
      },
      "execution_count": 17,
      "outputs": [
        {
          "output_type": "execute_result",
          "data": {
            "text/plain": [
              "{'person1': {'Card': 'Gold', 'Car': 'Yes'},\n",
              " 'person2': {'Card': 'Silver', 'Car': 'No'}}"
            ]
          },
          "metadata": {},
          "execution_count": 17
        }
      ]
    },
    {
      "cell_type": "code",
      "source": [
        "if dict['person1']['Card']=='Gold' and dict['person1']['Car']=='Yes':\n",
        "  print(\"You are eligible\")\n",
        "else:\n",
        "  print(\"You are not eligible\")"
      ],
      "metadata": {
        "colab": {
          "base_uri": "https://localhost:8080/"
        },
        "id": "wHn9hLqlgYcZ",
        "outputId": "30df622b-33e7-4853-dccd-acdb4b724bfc"
      },
      "execution_count": 18,
      "outputs": [
        {
          "output_type": "stream",
          "name": "stdout",
          "text": [
            "You are eligible\n"
          ]
        }
      ]
    },
    {
      "cell_type": "code",
      "source": [
        "if dict['person2']['Card']=='Gold' and dict['person2']['Car']=='Yes':\n",
        "  print(\"You are eligible\")\n",
        "else:\n",
        "  print(\"You are not eligible\")"
      ],
      "metadata": {
        "colab": {
          "base_uri": "https://localhost:8080/"
        },
        "id": "c5hpJchrhqBK",
        "outputId": "4af1b8f8-8e32-4a9b-fd87-45738c284b02"
      },
      "execution_count": 19,
      "outputs": [
        {
          "output_type": "stream",
          "name": "stdout",
          "text": [
            "You are not eligible\n"
          ]
        }
      ]
    },
    {
      "cell_type": "code",
      "source": [
        "n=[1,2,3,4,5,6,7,8,9,10]\n",
        "my_dict={\n",
        "    'even':{0,2,4,6,8,10},\n",
        "    'odd':{1,3,5,7,9}\n",
        "}\n",
        "def loop():\n",
        "  for i in n:\n",
        "    print(i)\n",
        "\n",
        "ans=input(\"even/odd:\")\n",
        "if ans=='even':\n",
        "  print(my_dict['even'])\n",
        "  print(\"Length:\",len(my_dict['even']))\n",
        "  loop()\n",
        "else:\n",
        "  print(my_dict['odd'])\n",
        "  print(\"Length:\",len(my_dict['odd']))\n",
        "  loop()"
      ],
      "metadata": {
        "colab": {
          "base_uri": "https://localhost:8080/"
        },
        "id": "eqc3kW8Shv9p",
        "outputId": "434dddc8-ac6e-4f06-a14a-f6809e445d23"
      },
      "execution_count": 20,
      "outputs": [
        {
          "output_type": "stream",
          "name": "stdout",
          "text": [
            "even/odd:odd\n",
            "{1, 3, 5, 7, 9}\n",
            "Length: 5\n",
            "1\n",
            "2\n",
            "3\n",
            "4\n",
            "5\n",
            "6\n",
            "7\n",
            "8\n",
            "9\n",
            "10\n"
          ]
        }
      ]
    },
    {
      "cell_type": "code",
      "source": [],
      "metadata": {
        "id": "ERr5Hd57qc2s"
      },
      "execution_count": null,
      "outputs": []
    }
  ]
}